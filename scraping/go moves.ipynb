{
 "cells": [
  {
   "cell_type": "code",
   "execution_count": 129,
   "metadata": {},
   "outputs": [],
   "source": [
    "from bs4 import BeautifulSoup\n",
    "from urllib.request import Request, urlopen\n",
    "import pickle\n",
    "import re\n",
    "import itertools\n",
    "import time\n",
    "import pandas as pd\n",
    "import numpy as np\n",
    "\n",
    "url = \"https://pokeassistant.com/movesets\"\n",
    "head = {'User-Agent': 'Mozilla/5.0 (Macintosh; Intel Mac OS X 10_13_6) AppleWebKit/537.36 (KHTML, like Gecko) Chrome/70.0.3538.77 Safari/537.36'}\n",
    "\n",
    "def get_moves(poke):\n",
    "    name = re.sub(r'\\s+', '', poke.select(\".sethead\")[0].text)\n",
    "    moves = [re.search(\"[A-z][A-z -]+\", s.text).group(0) for s in poke.select(\".row\")]\n",
    "    return name, moves \n",
    "\n",
    "def get_pokes(url):\n",
    "    req = Request(url, headers=head)\n",
    "    page = urlopen(req).read()\n",
    "    source = BeautifulSoup(page, \"html.parser\")\n",
    "    pokes = source.select('.tier2')\n",
    "    return(pokes)"
   ]
  },
  {
   "cell_type": "code",
   "execution_count": 84,
   "metadata": {},
   "outputs": [],
   "source": [
    "pokes = get_pokes(url)"
   ]
  },
  {
   "cell_type": "code",
   "execution_count": 155,
   "metadata": {},
   "outputs": [],
   "source": [
    "pokelist = [get_moves(p) for p in pokes]\n",
    "pokedict = {p[0]: p[1] for p in pokelist}\n",
    "df = pd.DataFrame(dict([ (k,pd.Series(v)) for k,v in pokedict.items() ]))\n",
    "df = df.unstack().reset_index().drop(columns = \"level_1\")\n",
    "df.columns = [\"name\", \"move\"]\n",
    "df = df.dropna().reset_index(drop=True)"
   ]
  },
  {
   "cell_type": "code",
   "execution_count": 156,
   "metadata": {},
   "outputs": [],
   "source": [
    "df.to_csv(\"movelist.csv\", index=False)"
   ]
  },
  {
   "cell_type": "code",
   "execution_count": null,
   "metadata": {},
   "outputs": [],
   "source": []
  }
 ],
 "metadata": {
  "kernelspec": {
   "display_name": "Python 3",
   "language": "python",
   "name": "python3"
  },
  "language_info": {
   "codemirror_mode": {
    "name": "ipython",
    "version": 3
   },
   "file_extension": ".py",
   "mimetype": "text/x-python",
   "name": "python",
   "nbconvert_exporter": "python",
   "pygments_lexer": "ipython3",
   "version": "3.7.3"
  }
 },
 "nbformat": 4,
 "nbformat_minor": 2
}

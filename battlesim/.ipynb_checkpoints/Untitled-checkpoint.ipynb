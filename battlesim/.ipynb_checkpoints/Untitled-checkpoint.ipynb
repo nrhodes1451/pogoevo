{
 "cells": [
  {
   "cell_type": "code",
   "execution_count": 13,
   "metadata": {},
   "outputs": [],
   "source": [
    "import pandas as pd\n",
    "\n",
    "file = r\"C:\\Users\\nrhod\\Documents\\Coding\\Python\\pokemon\\database.xlsx\"\n",
    "df_cp = pd.read_excel(file, sheet_name=\"CP Mult\")\n",
    "df_types = pd.read_excel(file, sheet_name=\"Types\")\n",
    "df_base_stats = pd.read_excel(file, sheet_name=\"Base Stats\")\n",
    "df_moves = pd.read_excel(file, sheet_name=\"Moves\")\n",
    "df_learned = pd.read_excel(file, sheet_name=\"learned moves\")"
   ]
  },
  {
   "cell_type": "code",
   "execution_count": 15,
   "metadata": {},
   "outputs": [
    {
     "data": {
      "text/html": [
       "<div>\n",
       "<style scoped>\n",
       "    .dataframe tbody tr th:only-of-type {\n",
       "        vertical-align: middle;\n",
       "    }\n",
       "\n",
       "    .dataframe tbody tr th {\n",
       "        vertical-align: top;\n",
       "    }\n",
       "\n",
       "    .dataframe thead th {\n",
       "        text-align: right;\n",
       "    }\n",
       "</style>\n",
       "<table border=\"1\" class=\"dataframe\">\n",
       "  <thead>\n",
       "    <tr style=\"text-align: right;\">\n",
       "      <th></th>\n",
       "      <th>name</th>\n",
       "      <th>move</th>\n",
       "    </tr>\n",
       "  </thead>\n",
       "  <tbody>\n",
       "    <tr>\n",
       "      <th>0</th>\n",
       "      <td>Bulbasaur</td>\n",
       "      <td>Vine Whip</td>\n",
       "    </tr>\n",
       "    <tr>\n",
       "      <th>1</th>\n",
       "      <td>Bulbasaur</td>\n",
       "      <td>Tackle</td>\n",
       "    </tr>\n",
       "    <tr>\n",
       "      <th>2</th>\n",
       "      <td>Bulbasaur</td>\n",
       "      <td>Sludge Bomb</td>\n",
       "    </tr>\n",
       "    <tr>\n",
       "      <th>3</th>\n",
       "      <td>Bulbasaur</td>\n",
       "      <td>Power Whip</td>\n",
       "    </tr>\n",
       "    <tr>\n",
       "      <th>4</th>\n",
       "      <td>Bulbasaur</td>\n",
       "      <td>Seed Bomb</td>\n",
       "    </tr>\n",
       "    <tr>\n",
       "      <th>...</th>\n",
       "      <td>...</td>\n",
       "      <td>...</td>\n",
       "    </tr>\n",
       "    <tr>\n",
       "      <th>2819</th>\n",
       "      <td>MarowakAlolaForm</td>\n",
       "      <td>Rock Smash</td>\n",
       "    </tr>\n",
       "    <tr>\n",
       "      <th>2820</th>\n",
       "      <td>MarowakAlolaForm</td>\n",
       "      <td>Hex</td>\n",
       "    </tr>\n",
       "    <tr>\n",
       "      <th>2821</th>\n",
       "      <td>MarowakAlolaForm</td>\n",
       "      <td>Shadow Ball</td>\n",
       "    </tr>\n",
       "    <tr>\n",
       "      <th>2822</th>\n",
       "      <td>MarowakAlolaForm</td>\n",
       "      <td>Fire Blast</td>\n",
       "    </tr>\n",
       "    <tr>\n",
       "      <th>2823</th>\n",
       "      <td>MarowakAlolaForm</td>\n",
       "      <td>Bone Club</td>\n",
       "    </tr>\n",
       "  </tbody>\n",
       "</table>\n",
       "<p>2824 rows × 2 columns</p>\n",
       "</div>"
      ],
      "text/plain": [
       "                  name         move\n",
       "0            Bulbasaur    Vine Whip\n",
       "1            Bulbasaur       Tackle\n",
       "2            Bulbasaur  Sludge Bomb\n",
       "3            Bulbasaur   Power Whip\n",
       "4            Bulbasaur    Seed Bomb\n",
       "...                ...          ...\n",
       "2819  MarowakAlolaForm   Rock Smash\n",
       "2820  MarowakAlolaForm          Hex\n",
       "2821  MarowakAlolaForm  Shadow Ball\n",
       "2822  MarowakAlolaForm   Fire Blast\n",
       "2823  MarowakAlolaForm    Bone Club\n",
       "\n",
       "[2824 rows x 2 columns]"
      ]
     },
     "execution_count": 15,
     "metadata": {},
     "output_type": "execute_result"
    }
   ],
   "source": [
    "df_learned"
   ]
  },
  {
   "cell_type": "code",
   "execution_count": null,
   "metadata": {},
   "outputs": [],
   "source": []
  }
 ],
 "metadata": {
  "kernelspec": {
   "display_name": "Python 3",
   "language": "python",
   "name": "python3"
  },
  "language_info": {
   "codemirror_mode": {
    "name": "ipython",
    "version": 3
   },
   "file_extension": ".py",
   "mimetype": "text/x-python",
   "name": "python",
   "nbconvert_exporter": "python",
   "pygments_lexer": "ipython3",
   "version": "3.7.3"
  }
 },
 "nbformat": 4,
 "nbformat_minor": 2
}
